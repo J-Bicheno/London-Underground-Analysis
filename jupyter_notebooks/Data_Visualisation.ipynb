{
  "cells": [
    {
      "cell_type": "markdown",
      "metadata": {
        "id": "0aStgWSO0E0E"
      },
      "source": [
        "# **London Underground Visualisation**"
      ]
    },
    {
      "cell_type": "markdown",
      "metadata": {
        "id": "1eLEkw5O0ECa"
      },
      "source": [
        "## Objectives\n",
        "\n",
        "* Conducting analysis and creating visualisations using the ug_clean dataset\n",
        "\n",
        "## Inputs\n",
        "\n",
        "* The ug_clean.csv file we created previously will be the basis for analysis and visualisation\n",
        "\n",
        "## Outputs\n",
        "\n",
        "* By the end of the notebook we should have 3 visualisations each from Matplotlib, Seaborn and Plotly\n"
      ]
    },
    {
      "cell_type": "markdown",
      "metadata": {
        "id": "9uWZXH9LwoQg"
      },
      "source": [
        "---"
      ]
    },
    {
      "cell_type": "markdown",
      "metadata": {
        "id": "cqP-UeN-z3i2"
      },
      "source": [
        "# Change working directory"
      ]
    },
    {
      "cell_type": "markdown",
      "metadata": {},
      "source": [
        "* We are assuming you will store the notebooks in a subfolder, therefore when running the notebook in the editor, you will need to change the working directory"
      ]
    },
    {
      "cell_type": "markdown",
      "metadata": {
        "id": "aOGIGS-uz3i2"
      },
      "source": [
        "We need to change the working directory from its current folder to its parent folder\n",
        "* We access the current directory with os.getcwd()"
      ]
    },
    {
      "cell_type": "code",
      "execution_count": 1,
      "metadata": {
        "id": "wZfF_j-Bz3i4",
        "outputId": "66943449-1436-4c3d-85c7-b85f9f78349b"
      },
      "outputs": [
        {
          "data": {
            "text/plain": [
              "'c:\\\\Users\\\\jackr\\\\OneDrive\\\\Desktop\\\\my_projects\\\\Project-1\\\\jupyter_notebooks'"
            ]
          },
          "execution_count": 1,
          "metadata": {},
          "output_type": "execute_result"
        }
      ],
      "source": [
        "import os\n",
        "current_dir = os.getcwd()\n",
        "current_dir"
      ]
    },
    {
      "cell_type": "markdown",
      "metadata": {
        "id": "9MWW8E7lz3i7"
      },
      "source": [
        "We want to make the parent of the current directory the new current directory\n",
        "* os.path.dirname() gets the parent directory\n",
        "* os.chir() defines the new current directory"
      ]
    },
    {
      "cell_type": "code",
      "execution_count": 2,
      "metadata": {
        "id": "TwHsQRWjz3i9",
        "outputId": "86849db3-cd2f-4cc5-ebb8-2d0caafa1a2c"
      },
      "outputs": [
        {
          "name": "stdout",
          "output_type": "stream",
          "text": [
            "You set a new current directory\n"
          ]
        }
      ],
      "source": [
        "os.chdir(os.path.dirname(current_dir))\n",
        "print(\"You set a new current directory\")"
      ]
    },
    {
      "cell_type": "markdown",
      "metadata": {
        "id": "M_xPk_Ijz3i-"
      },
      "source": [
        "Confirm the new current directory"
      ]
    },
    {
      "cell_type": "code",
      "execution_count": 3,
      "metadata": {
        "id": "vz3S-_kjz3jA",
        "outputId": "00b79ae4-75d0-4a96-d193-ac9ef9847ea2"
      },
      "outputs": [
        {
          "data": {
            "text/plain": [
              "'c:\\\\Users\\\\jackr\\\\OneDrive\\\\Desktop\\\\my_projects\\\\Project-1'"
            ]
          },
          "execution_count": 3,
          "metadata": {},
          "output_type": "execute_result"
        }
      ],
      "source": [
        "current_dir = os.getcwd()\n",
        "current_dir"
      ]
    },
    {
      "cell_type": "markdown",
      "metadata": {},
      "source": [
        "Importing necessary libraries"
      ]
    },
    {
      "cell_type": "code",
      "execution_count": 11,
      "metadata": {},
      "outputs": [],
      "source": [
        "import matplotlib.pyplot as plt\n",
        "import seaborn as sns\n",
        "import pandas as pd\n",
        "import plotly.express as px\n"
      ]
    },
    {
      "cell_type": "markdown",
      "metadata": {
        "id": "-mavJ8DibrcQ"
      },
      "source": [
        "# Matplotlib"
      ]
    },
    {
      "cell_type": "markdown",
      "metadata": {},
      "source": [
        "In this section we'll be trying to answer 3 important questions:\n",
        "* What happens to station usage over time?\n",
        "* What Lines and Zones have the highest usage over the past year?\n",
        "* What stations are used the most?"
      ]
    },
    {
      "cell_type": "markdown",
      "metadata": {},
      "source": [
        "First lets remind ourselves of the DataFrame"
      ]
    },
    {
      "cell_type": "code",
      "execution_count": 10,
      "metadata": {},
      "outputs": [
        {
          "data": {
            "text/html": [
              "<div>\n",
              "<style scoped>\n",
              "    .dataframe tbody tr th:only-of-type {\n",
              "        vertical-align: middle;\n",
              "    }\n",
              "\n",
              "    .dataframe tbody tr th {\n",
              "        vertical-align: top;\n",
              "    }\n",
              "\n",
              "    .dataframe thead th {\n",
              "        text-align: right;\n",
              "    }\n",
              "</style>\n",
              "<table border=\"1\" class=\"dataframe\">\n",
              "  <thead>\n",
              "    <tr style=\"text-align: right;\">\n",
              "      <th></th>\n",
              "      <th>Station</th>\n",
              "      <th>TravelDate</th>\n",
              "      <th>DayOfWeek</th>\n",
              "      <th>EntryTapCount</th>\n",
              "      <th>ExitTapCount</th>\n",
              "      <th>LINES</th>\n",
              "      <th>NETWORK</th>\n",
              "      <th>Zone</th>\n",
              "      <th>x</th>\n",
              "      <th>y</th>\n",
              "    </tr>\n",
              "  </thead>\n",
              "  <tbody>\n",
              "    <tr>\n",
              "      <th>0</th>\n",
              "      <td>Acton Town</td>\n",
              "      <td>2024-01-01</td>\n",
              "      <td>Monday</td>\n",
              "      <td>2928</td>\n",
              "      <td>3334</td>\n",
              "      <td>District, Piccadilly</td>\n",
              "      <td>London Underground</td>\n",
              "      <td>3</td>\n",
              "      <td>-0.278433</td>\n",
              "      <td>51.502137</td>\n",
              "    </tr>\n",
              "    <tr>\n",
              "      <th>1</th>\n",
              "      <td>Aldgate</td>\n",
              "      <td>2024-01-01</td>\n",
              "      <td>Monday</td>\n",
              "      <td>7223</td>\n",
              "      <td>7382</td>\n",
              "      <td>Metropolitan, Circle</td>\n",
              "      <td>London Underground</td>\n",
              "      <td>1</td>\n",
              "      <td>-0.074236</td>\n",
              "      <td>51.513982</td>\n",
              "    </tr>\n",
              "    <tr>\n",
              "      <th>2</th>\n",
              "      <td>Aldgate East</td>\n",
              "      <td>2024-01-01</td>\n",
              "      <td>Monday</td>\n",
              "      <td>10657</td>\n",
              "      <td>11723</td>\n",
              "      <td>Hammersmith &amp; City, District</td>\n",
              "      <td>London Underground</td>\n",
              "      <td>1</td>\n",
              "      <td>-0.069540</td>\n",
              "      <td>51.514917</td>\n",
              "    </tr>\n",
              "    <tr>\n",
              "      <th>3</th>\n",
              "      <td>Alperton</td>\n",
              "      <td>2024-01-01</td>\n",
              "      <td>Monday</td>\n",
              "      <td>2117</td>\n",
              "      <td>2235</td>\n",
              "      <td>Piccadilly</td>\n",
              "      <td>London Underground</td>\n",
              "      <td>4</td>\n",
              "      <td>-0.298361</td>\n",
              "      <td>51.540227</td>\n",
              "    </tr>\n",
              "    <tr>\n",
              "      <th>4</th>\n",
              "      <td>Amersham</td>\n",
              "      <td>2024-01-01</td>\n",
              "      <td>Monday</td>\n",
              "      <td>793</td>\n",
              "      <td>815</td>\n",
              "      <td>Metropolitan</td>\n",
              "      <td>London Underground</td>\n",
              "      <td>9</td>\n",
              "      <td>-0.606147</td>\n",
              "      <td>51.673662</td>\n",
              "    </tr>\n",
              "  </tbody>\n",
              "</table>\n",
              "</div>"
            ],
            "text/plain": [
              "        Station  TravelDate DayOfWeek  EntryTapCount  ExitTapCount  \\\n",
              "0    Acton Town  2024-01-01    Monday           2928          3334   \n",
              "1       Aldgate  2024-01-01    Monday           7223          7382   \n",
              "2  Aldgate East  2024-01-01    Monday          10657         11723   \n",
              "3      Alperton  2024-01-01    Monday           2117          2235   \n",
              "4      Amersham  2024-01-01    Monday            793           815   \n",
              "\n",
              "                          LINES             NETWORK  Zone         x          y  \n",
              "0          District, Piccadilly  London Underground     3 -0.278433  51.502137  \n",
              "1          Metropolitan, Circle  London Underground     1 -0.074236  51.513982  \n",
              "2  Hammersmith & City, District  London Underground     1 -0.069540  51.514917  \n",
              "3                    Piccadilly  London Underground     4 -0.298361  51.540227  \n",
              "4                  Metropolitan  London Underground     9 -0.606147  51.673662  "
            ]
          },
          "execution_count": 10,
          "metadata": {},
          "output_type": "execute_result"
        }
      ],
      "source": [
        "underground_df = pd.read_csv(r'Dataset\\Cleaned\\ug_clean.csv')\n",
        "underground_df.head()"
      ]
    },
    {
      "cell_type": "markdown",
      "metadata": {},
      "source": [
        "Then we can manipulate the data and use it for our line plot"
      ]
    },
    {
      "cell_type": "code",
      "execution_count": 16,
      "metadata": {},
      "outputs": [
        {
          "data": {
            "image/png": "[encoded data removed]",
            "text/plain": [
              "<Figure size 1000x500 with 1 Axes>"
            ]
          },
          "metadata": {},
          "output_type": "display_data"
        }
      ],
      "source": [
        "# Grouping the data by month and summing the EntryTapCount\n",
        "monthly = underground_df.groupby(pd.Grouper(key='TravelDate', freq='M'))['EntryTapCount'].sum()\n",
        "\n",
        "# Removing the last month if it is incomplete\n",
        "monthly = monthly.iloc[:-1]\n",
        "\n",
        "# Plotting the monthly entry tap count\n",
        "plt.figure(figsize=(10, 5))\n",
        "plt.plot(monthly.index, monthly.values, marker='o')\n",
        "plt.xlabel('Month')\n",
        "plt.ylabel('Entry Tap Count')\n",
        "plt.title('Monthly Entry Tap Count Over Time')\n",
        "plt.tight_layout()\n",
        "plt.show()"
      ]
    },
    {
      "cell_type": "markdown",
      "metadata": {},
      "source": [
        "The line plot above conveys some useful insights:\n",
        "* To answer our first question it seems like station usage over time is going up, this could be a result of population increase and the increasing number of jobs being created in the London area increasing the number of commuters overall.\n",
        "\n",
        "* There's a noticable peak around the months of November and early December with a sharp drop towards the end of December, this can be explained by the Christmas shopping season creating a sudden rise in demand of the Underground and then the Christmas holiday period causing the sharp drop due to the sudden absence of commuters."
      ]
    },
    {
      "cell_type": "markdown",
      "metadata": {
        "id": "ZY3l0-AxO93d"
      },
      "source": [
        "---"
      ]
    },
    {
      "cell_type": "markdown",
      "metadata": {
        "id": "uFQo3ycuO-v6"
      },
      "source": [
        "# Section 2"
      ]
    },
    {
      "cell_type": "markdown",
      "metadata": {},
      "source": [
        "Section 2 content"
      ]
    },
    {
      "cell_type": "code",
      "execution_count": null,
      "metadata": {},
      "outputs": [],
      "source": []
    },
    {
      "cell_type": "markdown",
      "metadata": {},
      "source": [
        "---"
      ]
    },
    {
      "cell_type": "markdown",
      "metadata": {},
      "source": [
        "NOTE"
      ]
    },
    {
      "cell_type": "markdown",
      "metadata": {},
      "source": [
        "* You may add as many sections as you want, as long as it supports your project workflow.\n",
        "* All notebook's cells should be run top-down (you can't create a dynamic wherein a given point you need to go back to a previous cell to execute some task, like go back to a previous cell and refresh a variable content)"
      ]
    },
    {
      "cell_type": "markdown",
      "metadata": {},
      "source": [
        "---"
      ]
    },
    {
      "cell_type": "markdown",
      "metadata": {
        "id": "ltNetd085qHf"
      },
      "source": [
        "# Push files to Repo"
      ]
    },
    {
      "cell_type": "markdown",
      "metadata": {},
      "source": [
        "* In cases where you don't need to push files to Repo, you may replace this section with \"Conclusions and Next Steps\" and state your conclusions and next steps."
      ]
    },
    {
      "cell_type": "code",
      "execution_count": null,
      "metadata": {
        "id": "aKlnIozA4eQO",
        "outputId": "fd09bc1f-adb1-4511-f6ce-492a6af570c0"
      },
      "outputs": [],
      "source": [
        "import os\n",
        "try:\n",
        "  # create your folder here\n",
        "  # os.makedirs(name='')\n",
        "except Exception as e:\n",
        "  print(e)\n"
      ]
    }
  ],
  "metadata": {
    "accelerator": "GPU",
    "colab": {
      "name": "Data Practitioner Jupyter Notebook.ipynb",
      "provenance": [],
      "toc_visible": true
    },
    "kernelspec": {
      "display_name": "Project_1.venv (3.12.8)",
      "language": "python",
      "name": "python3"
    },
    "language_info": {
      "codemirror_mode": {
        "name": "ipython",
        "version": 3
      },
      "file_extension": ".py",
      "mimetype": "text/x-python",
      "name": "python",
      "nbconvert_exporter": "python",
      "pygments_lexer": "ipython3",
      "version": "3.12.8"
    },
    "orig_nbformat": 2
  },
  "nbformat": 4,
  "nbformat_minor": 2
}
