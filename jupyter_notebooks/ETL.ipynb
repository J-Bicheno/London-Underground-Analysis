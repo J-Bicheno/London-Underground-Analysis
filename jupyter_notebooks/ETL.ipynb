{
  "cells": [
    {
      "cell_type": "markdown",
      "metadata": {
        "id": "0aStgWSO0E0E"
      },
      "source": [
        "# **London Underground ETL**"
      ]
    },
    {
      "cell_type": "markdown",
      "metadata": {
        "id": "1eLEkw5O0ECa"
      },
      "source": [
        "## Objectives\n",
        "\n",
        "* Clean and merge Footfall and Station Coordinates datasets\n",
        "\n",
        "## Inputs\n",
        "\n",
        "* To run this notebook the StationFootfall and Stations datasets are required \n",
        "\n",
        "## Outputs\n",
        "\n",
        "* Write here which files, code or artefacts you generate by the end of the notebook \n",
        "\n",
        "## Additional Comments\n",
        "\n",
        "* If you have any additional comments that don't fit in the previous bullets, please state them here. \n",
        "\n"
      ]
    },
    {
      "cell_type": "markdown",
      "metadata": {
        "id": "9uWZXH9LwoQg"
      },
      "source": [
        "---"
      ]
    },
    {
      "cell_type": "markdown",
      "metadata": {
        "id": "cqP-UeN-z3i2"
      },
      "source": [
        "# Change working directory"
      ]
    },
    {
      "cell_type": "markdown",
      "metadata": {},
      "source": [
        "* We are assuming you will store the notebooks in a subfolder, therefore when running the notebook in the editor, you will need to change the working directory"
      ]
    },
    {
      "cell_type": "markdown",
      "metadata": {
        "id": "aOGIGS-uz3i2"
      },
      "source": [
        "We need to change the working directory from its current folder to its parent folder\n",
        "* We access the current directory with os.getcwd()"
      ]
    },
    {
      "cell_type": "code",
      "execution_count": 39,
      "metadata": {
        "id": "wZfF_j-Bz3i4",
        "outputId": "66943449-1436-4c3d-85c7-b85f9f78349b"
      },
      "outputs": [
        {
          "data": {
            "text/plain": [
              "'c:\\\\Users\\\\jackr\\\\OneDrive\\\\Desktop\\\\my_projects\\\\Project-1'"
            ]
          },
          "execution_count": 39,
          "metadata": {},
          "output_type": "execute_result"
        }
      ],
      "source": [
        "import os\n",
        "current_dir = os.getcwd()\n",
        "current_dir"
      ]
    },
    {
      "cell_type": "markdown",
      "metadata": {
        "id": "9MWW8E7lz3i7"
      },
      "source": [
        "We want to make the parent of the current directory the new current directory\n",
        "* os.path.dirname() gets the parent directory\n",
        "* os.chir() defines the new current directory"
      ]
    },
    {
      "cell_type": "code",
      "execution_count": 40,
      "metadata": {
        "id": "TwHsQRWjz3i9",
        "outputId": "86849db3-cd2f-4cc5-ebb8-2d0caafa1a2c"
      },
      "outputs": [
        {
          "name": "stdout",
          "output_type": "stream",
          "text": [
            "You set a new current directory\n"
          ]
        }
      ],
      "source": [
        "os.chdir(os.path.dirname(current_dir))\n",
        "print(\"You set a new current directory\")"
      ]
    },
    {
      "cell_type": "markdown",
      "metadata": {
        "id": "M_xPk_Ijz3i-"
      },
      "source": [
        "Confirm the new current directory"
      ]
    },
    {
      "cell_type": "code",
      "execution_count": 41,
      "metadata": {
        "id": "vz3S-_kjz3jA",
        "outputId": "00b79ae4-75d0-4a96-d193-ac9ef9847ea2"
      },
      "outputs": [
        {
          "data": {
            "text/plain": [
              "'c:\\\\Users\\\\jackr\\\\OneDrive\\\\Desktop\\\\my_projects'"
            ]
          },
          "execution_count": 41,
          "metadata": {},
          "output_type": "execute_result"
        }
      ],
      "source": [
        "current_dir = os.getcwd()\n",
        "current_dir"
      ]
    },
    {
      "cell_type": "markdown",
      "metadata": {
        "id": "-mavJ8DibrcQ"
      },
      "source": [
        "# Extract"
      ]
    },
    {
      "cell_type": "markdown",
      "metadata": {},
      "source": [
        "* Retrieving datasets and checking values"
      ]
    },
    {
      "cell_type": "markdown",
      "metadata": {},
      "source": [
        "Importing necessary libraries"
      ]
    },
    {
      "cell_type": "code",
      "execution_count": 42,
      "metadata": {},
      "outputs": [],
      "source": [
        "import pandas as pd"
      ]
    },
    {
      "cell_type": "markdown",
      "metadata": {},
      "source": [
        "Parsing CSV files into DataFrames"
      ]
    },
    {
      "cell_type": "code",
      "execution_count": 43,
      "metadata": {},
      "outputs": [],
      "source": [
        "Footfall = pd.read_csv(r'c:\\Users\\jackr\\OneDrive\\Desktop\\my_projects\\Project-1\\Dataset\\Dirty\\StationFootfall_2024_2025 .csv')\n",
        "Station_Coords = pd.read_csv(r'c:\\Users\\jackr\\OneDrive\\Desktop\\my_projects\\Project-1\\Dataset\\Dirty\\Stations_20180921.csv')"
      ]
    },
    {
      "cell_type": "markdown",
      "metadata": {},
      "source": [
        "Checking variable types "
      ]
    },
    {
      "cell_type": "code",
      "execution_count": 44,
      "metadata": {},
      "outputs": [
        {
          "name": "stdout",
          "output_type": "stream",
          "text": [
            "<class 'pandas.core.frame.DataFrame'>\n",
            "RangeIndex: 249121 entries, 0 to 249120\n",
            "Data columns (total 5 columns):\n",
            " #   Column         Non-Null Count   Dtype \n",
            "---  ------         --------------   ----- \n",
            " 0   TravelDate     249121 non-null  int64 \n",
            " 1   DayOfWeek      249121 non-null  object\n",
            " 2   Station        249121 non-null  object\n",
            " 3   EntryTapCount  249121 non-null  int64 \n",
            " 4   ExitTapCount   249121 non-null  int64 \n",
            "dtypes: int64(3), object(2)\n",
            "memory usage: 9.5+ MB\n",
            "<class 'pandas.core.frame.DataFrame'>\n",
            "RangeIndex: 479 entries, 0 to 478\n",
            "Data columns (total 10 columns):\n",
            " #   Column    Non-Null Count  Dtype  \n",
            "---  ------    --------------  -----  \n",
            " 0   FID       479 non-null    int64  \n",
            " 1   OBJECTID  479 non-null    int64  \n",
            " 2   NAME      479 non-null    object \n",
            " 3   EASTING   479 non-null    int64  \n",
            " 4   NORTHING  479 non-null    int64  \n",
            " 5   LINES     271 non-null    object \n",
            " 6   NETWORK   479 non-null    object \n",
            " 7   Zone      479 non-null    int64  \n",
            " 8   x         479 non-null    float64\n",
            " 9   y         479 non-null    float64\n",
            "dtypes: float64(2), int64(5), object(3)\n",
            "memory usage: 37.6+ KB\n"
          ]
        }
      ],
      "source": [
        "Footfall.info()\n",
        "Station_Coords.info()"
      ]
    },
    {
      "cell_type": "markdown",
      "metadata": {},
      "source": [
        "^ The 'x' and 'y' values are floats, this is ideal for us as it's necessary in creating map scatter plots later on"
      ]
    },
    {
      "cell_type": "markdown",
      "metadata": {},
      "source": [
        "Displaying head of each DataFrame"
      ]
    },
    {
      "cell_type": "code",
      "execution_count": 45,
      "metadata": {},
      "outputs": [
        {
          "data": {
            "text/html": [
              "<div>\n",
              "<style scoped>\n",
              "    .dataframe tbody tr th:only-of-type {\n",
              "        vertical-align: middle;\n",
              "    }\n",
              "\n",
              "    .dataframe tbody tr th {\n",
              "        vertical-align: top;\n",
              "    }\n",
              "\n",
              "    .dataframe thead th {\n",
              "        text-align: right;\n",
              "    }\n",
              "</style>\n",
              "<table border=\"1\" class=\"dataframe\">\n",
              "  <thead>\n",
              "    <tr style=\"text-align: right;\">\n",
              "      <th></th>\n",
              "      <th>TravelDate</th>\n",
              "      <th>DayOfWeek</th>\n",
              "      <th>Station</th>\n",
              "      <th>EntryTapCount</th>\n",
              "      <th>ExitTapCount</th>\n",
              "    </tr>\n",
              "  </thead>\n",
              "  <tbody>\n",
              "    <tr>\n",
              "      <th>0</th>\n",
              "      <td>20240101</td>\n",
              "      <td>Monday</td>\n",
              "      <td>Abbey Road DLR</td>\n",
              "      <td>395</td>\n",
              "      <td>375</td>\n",
              "    </tr>\n",
              "    <tr>\n",
              "      <th>1</th>\n",
              "      <td>20240101</td>\n",
              "      <td>Monday</td>\n",
              "      <td>Abbey Wood</td>\n",
              "      <td>5898</td>\n",
              "      <td>5963</td>\n",
              "    </tr>\n",
              "    <tr>\n",
              "      <th>2</th>\n",
              "      <td>20240101</td>\n",
              "      <td>Monday</td>\n",
              "      <td>Acton Central</td>\n",
              "      <td>609</td>\n",
              "      <td>474</td>\n",
              "    </tr>\n",
              "    <tr>\n",
              "      <th>3</th>\n",
              "      <td>20240101</td>\n",
              "      <td>Monday</td>\n",
              "      <td>Acton Main Line</td>\n",
              "      <td>1717</td>\n",
              "      <td>1710</td>\n",
              "    </tr>\n",
              "    <tr>\n",
              "      <th>4</th>\n",
              "      <td>20240101</td>\n",
              "      <td>Monday</td>\n",
              "      <td>Acton Town</td>\n",
              "      <td>2928</td>\n",
              "      <td>3334</td>\n",
              "    </tr>\n",
              "  </tbody>\n",
              "</table>\n",
              "</div>"
            ],
            "text/plain": [
              "   TravelDate DayOfWeek          Station  EntryTapCount  ExitTapCount\n",
              "0    20240101    Monday   Abbey Road DLR            395           375\n",
              "1    20240101    Monday       Abbey Wood           5898          5963\n",
              "2    20240101    Monday    Acton Central            609           474\n",
              "3    20240101    Monday  Acton Main Line           1717          1710\n",
              "4    20240101    Monday       Acton Town           2928          3334"
            ]
          },
          "execution_count": 45,
          "metadata": {},
          "output_type": "execute_result"
        }
      ],
      "source": [
        "Footfall.head()"
      ]
    },
    {
      "cell_type": "code",
      "execution_count": 46,
      "metadata": {},
      "outputs": [
        {
          "data": {
            "text/html": [
              "<div>\n",
              "<style scoped>\n",
              "    .dataframe tbody tr th:only-of-type {\n",
              "        vertical-align: middle;\n",
              "    }\n",
              "\n",
              "    .dataframe tbody tr th {\n",
              "        vertical-align: top;\n",
              "    }\n",
              "\n",
              "    .dataframe thead th {\n",
              "        text-align: right;\n",
              "    }\n",
              "</style>\n",
              "<table border=\"1\" class=\"dataframe\">\n",
              "  <thead>\n",
              "    <tr style=\"text-align: right;\">\n",
              "      <th></th>\n",
              "      <th>FID</th>\n",
              "      <th>OBJECTID</th>\n",
              "      <th>NAME</th>\n",
              "      <th>EASTING</th>\n",
              "      <th>NORTHING</th>\n",
              "      <th>LINES</th>\n",
              "      <th>NETWORK</th>\n",
              "      <th>Zone</th>\n",
              "      <th>x</th>\n",
              "      <th>y</th>\n",
              "    </tr>\n",
              "  </thead>\n",
              "  <tbody>\n",
              "    <tr>\n",
              "      <th>0</th>\n",
              "      <td>0</td>\n",
              "      <td>78</td>\n",
              "      <td>Temple</td>\n",
              "      <td>530959</td>\n",
              "      <td>180803</td>\n",
              "      <td>District, Circle</td>\n",
              "      <td>London Underground</td>\n",
              "      <td>1</td>\n",
              "      <td>-0.112644</td>\n",
              "      <td>51.510474</td>\n",
              "    </tr>\n",
              "    <tr>\n",
              "      <th>1</th>\n",
              "      <td>1</td>\n",
              "      <td>79</td>\n",
              "      <td>Blackfriars</td>\n",
              "      <td>531694</td>\n",
              "      <td>180893</td>\n",
              "      <td>District, Circle</td>\n",
              "      <td>London Underground</td>\n",
              "      <td>1</td>\n",
              "      <td>-0.102020</td>\n",
              "      <td>51.511114</td>\n",
              "    </tr>\n",
              "    <tr>\n",
              "      <th>2</th>\n",
              "      <td>2</td>\n",
              "      <td>80</td>\n",
              "      <td>Mansion House</td>\n",
              "      <td>532354</td>\n",
              "      <td>180932</td>\n",
              "      <td>District, Circle</td>\n",
              "      <td>London Underground</td>\n",
              "      <td>1</td>\n",
              "      <td>-0.092495</td>\n",
              "      <td>51.511306</td>\n",
              "    </tr>\n",
              "    <tr>\n",
              "      <th>3</th>\n",
              "      <td>3</td>\n",
              "      <td>81</td>\n",
              "      <td>Cannon Street</td>\n",
              "      <td>532611</td>\n",
              "      <td>180900</td>\n",
              "      <td>District, Circle</td>\n",
              "      <td>London Underground</td>\n",
              "      <td>1</td>\n",
              "      <td>-0.088801</td>\n",
              "      <td>51.510963</td>\n",
              "    </tr>\n",
              "    <tr>\n",
              "      <th>4</th>\n",
              "      <td>4</td>\n",
              "      <td>82</td>\n",
              "      <td>Monument</td>\n",
              "      <td>532912</td>\n",
              "      <td>180824</td>\n",
              "      <td>District, Circle</td>\n",
              "      <td>London Underground</td>\n",
              "      <td>1</td>\n",
              "      <td>-0.084502</td>\n",
              "      <td>51.510209</td>\n",
              "    </tr>\n",
              "  </tbody>\n",
              "</table>\n",
              "</div>"
            ],
            "text/plain": [
              "   FID  OBJECTID           NAME  EASTING  NORTHING             LINES  \\\n",
              "0    0        78         Temple   530959    180803  District, Circle   \n",
              "1    1        79    Blackfriars   531694    180893  District, Circle   \n",
              "2    2        80  Mansion House   532354    180932  District, Circle   \n",
              "3    3        81  Cannon Street   532611    180900  District, Circle   \n",
              "4    4        82       Monument   532912    180824  District, Circle   \n",
              "\n",
              "              NETWORK  Zone         x          y  \n",
              "0  London Underground     1 -0.112644  51.510474  \n",
              "1  London Underground     1 -0.102020  51.511114  \n",
              "2  London Underground     1 -0.092495  51.511306  \n",
              "3  London Underground     1 -0.088801  51.510963  \n",
              "4  London Underground     1 -0.084502  51.510209  "
            ]
          },
          "execution_count": 46,
          "metadata": {},
          "output_type": "execute_result"
        }
      ],
      "source": [
        "Station_Coords.head()"
      ]
    },
    {
      "cell_type": "markdown",
      "metadata": {
        "id": "ZY3l0-AxO93d"
      },
      "source": [
        "---"
      ]
    },
    {
      "cell_type": "markdown",
      "metadata": {
        "id": "uFQo3ycuO-v6"
      },
      "source": [
        "# Section 2\n",
        "\n",
        "* Merging and Cleaning"
      ]
    },
    {
      "cell_type": "markdown",
      "metadata": {},
      "source": [
        "Filtering non-underground stations"
      ]
    },
    {
      "cell_type": "code",
      "execution_count": 47,
      "metadata": {},
      "outputs": [
        {
          "data": {
            "text/html": [
              "<div>\n",
              "<style scoped>\n",
              "    .dataframe tbody tr th:only-of-type {\n",
              "        vertical-align: middle;\n",
              "    }\n",
              "\n",
              "    .dataframe tbody tr th {\n",
              "        vertical-align: top;\n",
              "    }\n",
              "\n",
              "    .dataframe thead th {\n",
              "        text-align: right;\n",
              "    }\n",
              "</style>\n",
              "<table border=\"1\" class=\"dataframe\">\n",
              "  <thead>\n",
              "    <tr style=\"text-align: right;\">\n",
              "      <th></th>\n",
              "      <th>FID</th>\n",
              "      <th>OBJECTID</th>\n",
              "      <th>NAME</th>\n",
              "      <th>EASTING</th>\n",
              "      <th>NORTHING</th>\n",
              "      <th>LINES</th>\n",
              "      <th>NETWORK</th>\n",
              "      <th>Zone</th>\n",
              "      <th>x</th>\n",
              "      <th>y</th>\n",
              "    </tr>\n",
              "  </thead>\n",
              "  <tbody>\n",
              "  </tbody>\n",
              "</table>\n",
              "</div>"
            ],
            "text/plain": [
              "Empty DataFrame\n",
              "Columns: [FID, OBJECTID, NAME, EASTING, NORTHING, LINES, NETWORK, Zone, x, y]\n",
              "Index: []"
            ]
          },
          "execution_count": 47,
          "metadata": {},
          "output_type": "execute_result"
        }
      ],
      "source": [
        "Station_Coords = Station_Coords.query(\"NETWORK == 'London Underground'\")\n",
        "\n",
        "# Checking Networks have been filtered correctly          \n",
        "Station_Coords.query(\"NETWORK == ['London Overground', 'Tramlink', 'DLR', 'TfL Rail']\")\n",
        "                            "
      ]
    },
    {
      "cell_type": "markdown",
      "metadata": {},
      "source": [
        "^ No rows appear when querying our filtered stations, they are no longer in the DataFrame"
      ]
    },
    {
      "cell_type": "markdown",
      "metadata": {},
      "source": [
        "Checking for duplicate values"
      ]
    },
    {
      "cell_type": "code",
      "execution_count": 53,
      "metadata": {},
      "outputs": [
        {
          "data": {
            "text/plain": [
              "0"
            ]
          },
          "execution_count": 53,
          "metadata": {},
          "output_type": "execute_result"
        }
      ],
      "source": [
        "Footfall.duplicated().sum()\n",
        "Station_Coords.duplicated().sum()"
      ]
    },
    {
      "cell_type": "markdown",
      "metadata": {},
      "source": [
        "Cleaning whitespace in columns and values"
      ]
    },
    {
      "cell_type": "code",
      "execution_count": 48,
      "metadata": {},
      "outputs": [],
      "source": [
        "Footfall.columns = Footfall.columns.str.strip()\n",
        "Station_Coords.columns = Station_Coords.columns.str.strip()\n",
        "Footfall['Station'] = Footfall['Station'].str.strip()\n",
        "Station_Coords['NAME'] = Station_Coords['NAME'].str.strip()\n"
      ]
    },
    {
      "cell_type": "markdown",
      "metadata": {},
      "source": [
        "Merging Underground datasets"
      ]
    },
    {
      "cell_type": "code",
      "execution_count": 49,
      "metadata": {},
      "outputs": [
        {
          "data": {
            "text/html": [
              "<div>\n",
              "<style scoped>\n",
              "    .dataframe tbody tr th:only-of-type {\n",
              "        vertical-align: middle;\n",
              "    }\n",
              "\n",
              "    .dataframe tbody tr th {\n",
              "        vertical-align: top;\n",
              "    }\n",
              "\n",
              "    .dataframe thead th {\n",
              "        text-align: right;\n",
              "    }\n",
              "</style>\n",
              "<table border=\"1\" class=\"dataframe\">\n",
              "  <thead>\n",
              "    <tr style=\"text-align: right;\">\n",
              "      <th></th>\n",
              "      <th>TravelDate</th>\n",
              "      <th>DayOfWeek</th>\n",
              "      <th>Station</th>\n",
              "      <th>EntryTapCount</th>\n",
              "      <th>ExitTapCount</th>\n",
              "      <th>NAME</th>\n",
              "      <th>LINES</th>\n",
              "      <th>NETWORK</th>\n",
              "      <th>Zone</th>\n",
              "      <th>x</th>\n",
              "      <th>y</th>\n",
              "    </tr>\n",
              "  </thead>\n",
              "  <tbody>\n",
              "    <tr>\n",
              "      <th>0</th>\n",
              "      <td>20240101</td>\n",
              "      <td>Monday</td>\n",
              "      <td>Abbey Road DLR</td>\n",
              "      <td>395</td>\n",
              "      <td>375</td>\n",
              "      <td>NaN</td>\n",
              "      <td>NaN</td>\n",
              "      <td>NaN</td>\n",
              "      <td>NaN</td>\n",
              "      <td>NaN</td>\n",
              "      <td>NaN</td>\n",
              "    </tr>\n",
              "    <tr>\n",
              "      <th>1</th>\n",
              "      <td>20240101</td>\n",
              "      <td>Monday</td>\n",
              "      <td>Abbey Wood</td>\n",
              "      <td>5898</td>\n",
              "      <td>5963</td>\n",
              "      <td>NaN</td>\n",
              "      <td>NaN</td>\n",
              "      <td>NaN</td>\n",
              "      <td>NaN</td>\n",
              "      <td>NaN</td>\n",
              "      <td>NaN</td>\n",
              "    </tr>\n",
              "    <tr>\n",
              "      <th>2</th>\n",
              "      <td>20240101</td>\n",
              "      <td>Monday</td>\n",
              "      <td>Acton Central</td>\n",
              "      <td>609</td>\n",
              "      <td>474</td>\n",
              "      <td>NaN</td>\n",
              "      <td>NaN</td>\n",
              "      <td>NaN</td>\n",
              "      <td>NaN</td>\n",
              "      <td>NaN</td>\n",
              "      <td>NaN</td>\n",
              "    </tr>\n",
              "    <tr>\n",
              "      <th>3</th>\n",
              "      <td>20240101</td>\n",
              "      <td>Monday</td>\n",
              "      <td>Acton Main Line</td>\n",
              "      <td>1717</td>\n",
              "      <td>1710</td>\n",
              "      <td>NaN</td>\n",
              "      <td>NaN</td>\n",
              "      <td>NaN</td>\n",
              "      <td>NaN</td>\n",
              "      <td>NaN</td>\n",
              "      <td>NaN</td>\n",
              "    </tr>\n",
              "    <tr>\n",
              "      <th>4</th>\n",
              "      <td>20240101</td>\n",
              "      <td>Monday</td>\n",
              "      <td>Acton Town</td>\n",
              "      <td>2928</td>\n",
              "      <td>3334</td>\n",
              "      <td>Acton Town</td>\n",
              "      <td>District, Piccadilly</td>\n",
              "      <td>London Underground</td>\n",
              "      <td>3.0</td>\n",
              "      <td>-0.278433</td>\n",
              "      <td>51.502137</td>\n",
              "    </tr>\n",
              "    <tr>\n",
              "      <th>5</th>\n",
              "      <td>20240101</td>\n",
              "      <td>Monday</td>\n",
              "      <td>Aldgate</td>\n",
              "      <td>7223</td>\n",
              "      <td>7382</td>\n",
              "      <td>Aldgate</td>\n",
              "      <td>Metropolitan, Circle</td>\n",
              "      <td>London Underground</td>\n",
              "      <td>1.0</td>\n",
              "      <td>-0.074236</td>\n",
              "      <td>51.513982</td>\n",
              "    </tr>\n",
              "    <tr>\n",
              "      <th>6</th>\n",
              "      <td>20240101</td>\n",
              "      <td>Monday</td>\n",
              "      <td>Aldgate East</td>\n",
              "      <td>10657</td>\n",
              "      <td>11723</td>\n",
              "      <td>Aldgate East</td>\n",
              "      <td>Hammersmith &amp; City, District</td>\n",
              "      <td>London Underground</td>\n",
              "      <td>1.0</td>\n",
              "      <td>-0.069540</td>\n",
              "      <td>51.514917</td>\n",
              "    </tr>\n",
              "    <tr>\n",
              "      <th>7</th>\n",
              "      <td>20240101</td>\n",
              "      <td>Monday</td>\n",
              "      <td>All Saints</td>\n",
              "      <td>641</td>\n",
              "      <td>578</td>\n",
              "      <td>NaN</td>\n",
              "      <td>NaN</td>\n",
              "      <td>NaN</td>\n",
              "      <td>NaN</td>\n",
              "      <td>NaN</td>\n",
              "      <td>NaN</td>\n",
              "    </tr>\n",
              "    <tr>\n",
              "      <th>8</th>\n",
              "      <td>20240101</td>\n",
              "      <td>Monday</td>\n",
              "      <td>Alperton</td>\n",
              "      <td>2117</td>\n",
              "      <td>2235</td>\n",
              "      <td>Alperton</td>\n",
              "      <td>Piccadilly</td>\n",
              "      <td>London Underground</td>\n",
              "      <td>4.0</td>\n",
              "      <td>-0.298361</td>\n",
              "      <td>51.540227</td>\n",
              "    </tr>\n",
              "    <tr>\n",
              "      <th>9</th>\n",
              "      <td>20240101</td>\n",
              "      <td>Monday</td>\n",
              "      <td>Amersham</td>\n",
              "      <td>793</td>\n",
              "      <td>815</td>\n",
              "      <td>Amersham</td>\n",
              "      <td>Metropolitan</td>\n",
              "      <td>London Underground</td>\n",
              "      <td>9.0</td>\n",
              "      <td>-0.606147</td>\n",
              "      <td>51.673662</td>\n",
              "    </tr>\n",
              "  </tbody>\n",
              "</table>\n",
              "</div>"
            ],
            "text/plain": [
              "   TravelDate DayOfWeek          Station  EntryTapCount  ExitTapCount  \\\n",
              "0    20240101    Monday   Abbey Road DLR            395           375   \n",
              "1    20240101    Monday       Abbey Wood           5898          5963   \n",
              "2    20240101    Monday    Acton Central            609           474   \n",
              "3    20240101    Monday  Acton Main Line           1717          1710   \n",
              "4    20240101    Monday       Acton Town           2928          3334   \n",
              "5    20240101    Monday          Aldgate           7223          7382   \n",
              "6    20240101    Monday     Aldgate East          10657         11723   \n",
              "7    20240101    Monday       All Saints            641           578   \n",
              "8    20240101    Monday         Alperton           2117          2235   \n",
              "9    20240101    Monday         Amersham            793           815   \n",
              "\n",
              "           NAME                         LINES             NETWORK  Zone  \\\n",
              "0           NaN                           NaN                 NaN   NaN   \n",
              "1           NaN                           NaN                 NaN   NaN   \n",
              "2           NaN                           NaN                 NaN   NaN   \n",
              "3           NaN                           NaN                 NaN   NaN   \n",
              "4    Acton Town          District, Piccadilly  London Underground   3.0   \n",
              "5       Aldgate          Metropolitan, Circle  London Underground   1.0   \n",
              "6  Aldgate East  Hammersmith & City, District  London Underground   1.0   \n",
              "7           NaN                           NaN                 NaN   NaN   \n",
              "8      Alperton                    Piccadilly  London Underground   4.0   \n",
              "9      Amersham                  Metropolitan  London Underground   9.0   \n",
              "\n",
              "          x          y  \n",
              "0       NaN        NaN  \n",
              "1       NaN        NaN  \n",
              "2       NaN        NaN  \n",
              "3       NaN        NaN  \n",
              "4 -0.278433  51.502137  \n",
              "5 -0.074236  51.513982  \n",
              "6 -0.069540  51.514917  \n",
              "7       NaN        NaN  \n",
              "8 -0.298361  51.540227  \n",
              "9 -0.606147  51.673662  "
            ]
          },
          "execution_count": 49,
          "metadata": {},
          "output_type": "execute_result"
        }
      ],
      "source": [
        "merged_ug = pd.merge(\n",
        "    Footfall,\n",
        "    Station_Coords[['NAME', 'LINES', 'NETWORK', 'Zone', 'x', 'y']],\n",
        "    left_on='Station',\n",
        "    right_on='NAME',\n",
        "    how='left'\n",
        ")\n",
        "\n",
        "merged_ug.head(10)"
      ]
    },
    {
      "cell_type": "markdown",
      "metadata": {},
      "source": [
        "Dropping duplicate name column"
      ]
    },
    {
      "cell_type": "code",
      "execution_count": 57,
      "metadata": {},
      "outputs": [
        {
          "data": {
            "text/html": [
              "<div>\n",
              "<style scoped>\n",
              "    .dataframe tbody tr th:only-of-type {\n",
              "        vertical-align: middle;\n",
              "    }\n",
              "\n",
              "    .dataframe tbody tr th {\n",
              "        vertical-align: top;\n",
              "    }\n",
              "\n",
              "    .dataframe thead th {\n",
              "        text-align: right;\n",
              "    }\n",
              "</style>\n",
              "<table border=\"1\" class=\"dataframe\">\n",
              "  <thead>\n",
              "    <tr style=\"text-align: right;\">\n",
              "      <th></th>\n",
              "      <th>TravelDate</th>\n",
              "      <th>DayOfWeek</th>\n",
              "      <th>Station</th>\n",
              "      <th>EntryTapCount</th>\n",
              "      <th>ExitTapCount</th>\n",
              "      <th>LINES</th>\n",
              "      <th>NETWORK</th>\n",
              "      <th>Zone</th>\n",
              "      <th>x</th>\n",
              "      <th>y</th>\n",
              "    </tr>\n",
              "  </thead>\n",
              "  <tbody>\n",
              "    <tr>\n",
              "      <th>0</th>\n",
              "      <td>20240101</td>\n",
              "      <td>Monday</td>\n",
              "      <td>Abbey Road DLR</td>\n",
              "      <td>395</td>\n",
              "      <td>375</td>\n",
              "      <td>NaN</td>\n",
              "      <td>NaN</td>\n",
              "      <td>NaN</td>\n",
              "      <td>NaN</td>\n",
              "      <td>NaN</td>\n",
              "    </tr>\n",
              "    <tr>\n",
              "      <th>1</th>\n",
              "      <td>20240101</td>\n",
              "      <td>Monday</td>\n",
              "      <td>Abbey Wood</td>\n",
              "      <td>5898</td>\n",
              "      <td>5963</td>\n",
              "      <td>NaN</td>\n",
              "      <td>NaN</td>\n",
              "      <td>NaN</td>\n",
              "      <td>NaN</td>\n",
              "      <td>NaN</td>\n",
              "    </tr>\n",
              "    <tr>\n",
              "      <th>2</th>\n",
              "      <td>20240101</td>\n",
              "      <td>Monday</td>\n",
              "      <td>Acton Central</td>\n",
              "      <td>609</td>\n",
              "      <td>474</td>\n",
              "      <td>NaN</td>\n",
              "      <td>NaN</td>\n",
              "      <td>NaN</td>\n",
              "      <td>NaN</td>\n",
              "      <td>NaN</td>\n",
              "    </tr>\n",
              "    <tr>\n",
              "      <th>3</th>\n",
              "      <td>20240101</td>\n",
              "      <td>Monday</td>\n",
              "      <td>Acton Main Line</td>\n",
              "      <td>1717</td>\n",
              "      <td>1710</td>\n",
              "      <td>NaN</td>\n",
              "      <td>NaN</td>\n",
              "      <td>NaN</td>\n",
              "      <td>NaN</td>\n",
              "      <td>NaN</td>\n",
              "    </tr>\n",
              "    <tr>\n",
              "      <th>4</th>\n",
              "      <td>20240101</td>\n",
              "      <td>Monday</td>\n",
              "      <td>Acton Town</td>\n",
              "      <td>2928</td>\n",
              "      <td>3334</td>\n",
              "      <td>District, Piccadilly</td>\n",
              "      <td>London Underground</td>\n",
              "      <td>3.0</td>\n",
              "      <td>-0.278433</td>\n",
              "      <td>51.502137</td>\n",
              "    </tr>\n",
              "  </tbody>\n",
              "</table>\n",
              "</div>"
            ],
            "text/plain": [
              "   TravelDate DayOfWeek          Station  EntryTapCount  ExitTapCount  \\\n",
              "0    20240101    Monday   Abbey Road DLR            395           375   \n",
              "1    20240101    Monday       Abbey Wood           5898          5963   \n",
              "2    20240101    Monday    Acton Central            609           474   \n",
              "3    20240101    Monday  Acton Main Line           1717          1710   \n",
              "4    20240101    Monday       Acton Town           2928          3334   \n",
              "\n",
              "                  LINES             NETWORK  Zone         x          y  \n",
              "0                   NaN                 NaN   NaN       NaN        NaN  \n",
              "1                   NaN                 NaN   NaN       NaN        NaN  \n",
              "2                   NaN                 NaN   NaN       NaN        NaN  \n",
              "3                   NaN                 NaN   NaN       NaN        NaN  \n",
              "4  District, Piccadilly  London Underground   3.0 -0.278433  51.502137  "
            ]
          },
          "execution_count": 57,
          "metadata": {},
          "output_type": "execute_result"
        }
      ],
      "source": [
        "merged_ug = merged_ug.drop(columns=['NAME'], errors='ignore')\n",
        "merged_ug.head()"
      ]
    },
    {
      "cell_type": "markdown",
      "metadata": {},
      "source": [
        "Removing all rows with NaN values, these are non-underground stations"
      ]
    },
    {
      "cell_type": "code",
      "execution_count": 58,
      "metadata": {},
      "outputs": [
        {
          "data": {
            "text/html": [
              "<div>\n",
              "<style scoped>\n",
              "    .dataframe tbody tr th:only-of-type {\n",
              "        vertical-align: middle;\n",
              "    }\n",
              "\n",
              "    .dataframe tbody tr th {\n",
              "        vertical-align: top;\n",
              "    }\n",
              "\n",
              "    .dataframe thead th {\n",
              "        text-align: right;\n",
              "    }\n",
              "</style>\n",
              "<table border=\"1\" class=\"dataframe\">\n",
              "  <thead>\n",
              "    <tr style=\"text-align: right;\">\n",
              "      <th></th>\n",
              "      <th>TravelDate</th>\n",
              "      <th>DayOfWeek</th>\n",
              "      <th>Station</th>\n",
              "      <th>EntryTapCount</th>\n",
              "      <th>ExitTapCount</th>\n",
              "      <th>LINES</th>\n",
              "      <th>NETWORK</th>\n",
              "      <th>Zone</th>\n",
              "      <th>x</th>\n",
              "      <th>y</th>\n",
              "    </tr>\n",
              "  </thead>\n",
              "  <tbody>\n",
              "    <tr>\n",
              "      <th>4</th>\n",
              "      <td>20240101</td>\n",
              "      <td>Monday</td>\n",
              "      <td>Acton Town</td>\n",
              "      <td>2928</td>\n",
              "      <td>3334</td>\n",
              "      <td>District, Piccadilly</td>\n",
              "      <td>London Underground</td>\n",
              "      <td>3.0</td>\n",
              "      <td>-0.278433</td>\n",
              "      <td>51.502137</td>\n",
              "    </tr>\n",
              "    <tr>\n",
              "      <th>5</th>\n",
              "      <td>20240101</td>\n",
              "      <td>Monday</td>\n",
              "      <td>Aldgate</td>\n",
              "      <td>7223</td>\n",
              "      <td>7382</td>\n",
              "      <td>Metropolitan, Circle</td>\n",
              "      <td>London Underground</td>\n",
              "      <td>1.0</td>\n",
              "      <td>-0.074236</td>\n",
              "      <td>51.513982</td>\n",
              "    </tr>\n",
              "    <tr>\n",
              "      <th>6</th>\n",
              "      <td>20240101</td>\n",
              "      <td>Monday</td>\n",
              "      <td>Aldgate East</td>\n",
              "      <td>10657</td>\n",
              "      <td>11723</td>\n",
              "      <td>Hammersmith &amp; City, District</td>\n",
              "      <td>London Underground</td>\n",
              "      <td>1.0</td>\n",
              "      <td>-0.069540</td>\n",
              "      <td>51.514917</td>\n",
              "    </tr>\n",
              "    <tr>\n",
              "      <th>8</th>\n",
              "      <td>20240101</td>\n",
              "      <td>Monday</td>\n",
              "      <td>Alperton</td>\n",
              "      <td>2117</td>\n",
              "      <td>2235</td>\n",
              "      <td>Piccadilly</td>\n",
              "      <td>London Underground</td>\n",
              "      <td>4.0</td>\n",
              "      <td>-0.298361</td>\n",
              "      <td>51.540227</td>\n",
              "    </tr>\n",
              "    <tr>\n",
              "      <th>9</th>\n",
              "      <td>20240101</td>\n",
              "      <td>Monday</td>\n",
              "      <td>Amersham</td>\n",
              "      <td>793</td>\n",
              "      <td>815</td>\n",
              "      <td>Metropolitan</td>\n",
              "      <td>London Underground</td>\n",
              "      <td>9.0</td>\n",
              "      <td>-0.606147</td>\n",
              "      <td>51.673662</td>\n",
              "    </tr>\n",
              "  </tbody>\n",
              "</table>\n",
              "</div>"
            ],
            "text/plain": [
              "   TravelDate DayOfWeek       Station  EntryTapCount  ExitTapCount  \\\n",
              "4    20240101    Monday    Acton Town           2928          3334   \n",
              "5    20240101    Monday       Aldgate           7223          7382   \n",
              "6    20240101    Monday  Aldgate East          10657         11723   \n",
              "8    20240101    Monday      Alperton           2117          2235   \n",
              "9    20240101    Monday      Amersham            793           815   \n",
              "\n",
              "                          LINES             NETWORK  Zone         x          y  \n",
              "4          District, Piccadilly  London Underground   3.0 -0.278433  51.502137  \n",
              "5          Metropolitan, Circle  London Underground   1.0 -0.074236  51.513982  \n",
              "6  Hammersmith & City, District  London Underground   1.0 -0.069540  51.514917  \n",
              "8                    Piccadilly  London Underground   4.0 -0.298361  51.540227  \n",
              "9                  Metropolitan  London Underground   9.0 -0.606147  51.673662  "
            ]
          },
          "execution_count": 58,
          "metadata": {},
          "output_type": "execute_result"
        }
      ],
      "source": [
        "merged_ug = merged_ug.dropna()\n",
        "merged_ug.head()"
      ]
    },
    {
      "cell_type": "markdown",
      "metadata": {},
      "source": [
        "Establishing new index"
      ]
    },
    {
      "cell_type": "code",
      "execution_count": 59,
      "metadata": {},
      "outputs": [
        {
          "data": {
            "text/html": [
              "<div>\n",
              "<style scoped>\n",
              "    .dataframe tbody tr th:only-of-type {\n",
              "        vertical-align: middle;\n",
              "    }\n",
              "\n",
              "    .dataframe tbody tr th {\n",
              "        vertical-align: top;\n",
              "    }\n",
              "\n",
              "    .dataframe thead th {\n",
              "        text-align: right;\n",
              "    }\n",
              "</style>\n",
              "<table border=\"1\" class=\"dataframe\">\n",
              "  <thead>\n",
              "    <tr style=\"text-align: right;\">\n",
              "      <th></th>\n",
              "      <th>TravelDate</th>\n",
              "      <th>DayOfWeek</th>\n",
              "      <th>EntryTapCount</th>\n",
              "      <th>ExitTapCount</th>\n",
              "      <th>LINES</th>\n",
              "      <th>NETWORK</th>\n",
              "      <th>Zone</th>\n",
              "      <th>x</th>\n",
              "      <th>y</th>\n",
              "    </tr>\n",
              "    <tr>\n",
              "      <th>Station</th>\n",
              "      <th></th>\n",
              "      <th></th>\n",
              "      <th></th>\n",
              "      <th></th>\n",
              "      <th></th>\n",
              "      <th></th>\n",
              "      <th></th>\n",
              "      <th></th>\n",
              "      <th></th>\n",
              "    </tr>\n",
              "  </thead>\n",
              "  <tbody>\n",
              "    <tr>\n",
              "      <th>Acton Town</th>\n",
              "      <td>20240101</td>\n",
              "      <td>Monday</td>\n",
              "      <td>2928</td>\n",
              "      <td>3334</td>\n",
              "      <td>District, Piccadilly</td>\n",
              "      <td>London Underground</td>\n",
              "      <td>3.0</td>\n",
              "      <td>-0.278433</td>\n",
              "      <td>51.502137</td>\n",
              "    </tr>\n",
              "    <tr>\n",
              "      <th>Aldgate</th>\n",
              "      <td>20240101</td>\n",
              "      <td>Monday</td>\n",
              "      <td>7223</td>\n",
              "      <td>7382</td>\n",
              "      <td>Metropolitan, Circle</td>\n",
              "      <td>London Underground</td>\n",
              "      <td>1.0</td>\n",
              "      <td>-0.074236</td>\n",
              "      <td>51.513982</td>\n",
              "    </tr>\n",
              "    <tr>\n",
              "      <th>Aldgate East</th>\n",
              "      <td>20240101</td>\n",
              "      <td>Monday</td>\n",
              "      <td>10657</td>\n",
              "      <td>11723</td>\n",
              "      <td>Hammersmith &amp; City, District</td>\n",
              "      <td>London Underground</td>\n",
              "      <td>1.0</td>\n",
              "      <td>-0.069540</td>\n",
              "      <td>51.514917</td>\n",
              "    </tr>\n",
              "    <tr>\n",
              "      <th>Alperton</th>\n",
              "      <td>20240101</td>\n",
              "      <td>Monday</td>\n",
              "      <td>2117</td>\n",
              "      <td>2235</td>\n",
              "      <td>Piccadilly</td>\n",
              "      <td>London Underground</td>\n",
              "      <td>4.0</td>\n",
              "      <td>-0.298361</td>\n",
              "      <td>51.540227</td>\n",
              "    </tr>\n",
              "    <tr>\n",
              "      <th>Amersham</th>\n",
              "      <td>20240101</td>\n",
              "      <td>Monday</td>\n",
              "      <td>793</td>\n",
              "      <td>815</td>\n",
              "      <td>Metropolitan</td>\n",
              "      <td>London Underground</td>\n",
              "      <td>9.0</td>\n",
              "      <td>-0.606147</td>\n",
              "      <td>51.673662</td>\n",
              "    </tr>\n",
              "  </tbody>\n",
              "</table>\n",
              "</div>"
            ],
            "text/plain": [
              "              TravelDate DayOfWeek  EntryTapCount  ExitTapCount  \\\n",
              "Station                                                           \n",
              "Acton Town      20240101    Monday           2928          3334   \n",
              "Aldgate         20240101    Monday           7223          7382   \n",
              "Aldgate East    20240101    Monday          10657         11723   \n",
              "Alperton        20240101    Monday           2117          2235   \n",
              "Amersham        20240101    Monday            793           815   \n",
              "\n",
              "                                     LINES             NETWORK  Zone  \\\n",
              "Station                                                                \n",
              "Acton Town            District, Piccadilly  London Underground   3.0   \n",
              "Aldgate               Metropolitan, Circle  London Underground   1.0   \n",
              "Aldgate East  Hammersmith & City, District  London Underground   1.0   \n",
              "Alperton                        Piccadilly  London Underground   4.0   \n",
              "Amersham                      Metropolitan  London Underground   9.0   \n",
              "\n",
              "                     x          y  \n",
              "Station                            \n",
              "Acton Town   -0.278433  51.502137  \n",
              "Aldgate      -0.074236  51.513982  \n",
              "Aldgate East -0.069540  51.514917  \n",
              "Alperton     -0.298361  51.540227  \n",
              "Amersham     -0.606147  51.673662  "
            ]
          },
          "execution_count": 59,
          "metadata": {},
          "output_type": "execute_result"
        }
      ],
      "source": [
        "merged_ug = merged_ug.set_index('Station')\n",
        "merged_ug.head()"
      ]
    },
    {
      "cell_type": "markdown",
      "metadata": {},
      "source": [
        "---"
      ]
    },
    {
      "cell_type": "markdown",
      "metadata": {},
      "source": [
        "NOTE"
      ]
    },
    {
      "cell_type": "markdown",
      "metadata": {},
      "source": [
        "* You may add as many sections as you want, as long as it supports your project workflow.\n",
        "* All notebook's cells should be run top-down (you can't create a dynamic wherein a given point you need to go back to a previous cell to execute some task, like go back to a previous cell and refresh a variable content)"
      ]
    },
    {
      "cell_type": "markdown",
      "metadata": {},
      "source": [
        "---"
      ]
    },
    {
      "cell_type": "markdown",
      "metadata": {
        "id": "ltNetd085qHf"
      },
      "source": [
        "# Push files to Repo"
      ]
    },
    {
      "cell_type": "markdown",
      "metadata": {},
      "source": [
        "* In cases where you don't need to push files to Repo, you may replace this section with \"Conclusions and Next Steps\" and state your conclusions and next steps."
      ]
    },
    {
      "cell_type": "code",
      "execution_count": 50,
      "metadata": {
        "id": "aKlnIozA4eQO",
        "outputId": "fd09bc1f-adb1-4511-f6ce-492a6af570c0"
      },
      "outputs": [
        {
          "ename": "IndentationError",
          "evalue": "expected an indented block after 'try' statement on line 2 (553063055.py, line 5)",
          "output_type": "error",
          "traceback": [
            "  \u001b[36mCell\u001b[39m\u001b[36m \u001b[39m\u001b[32mIn[50]\u001b[39m\u001b[32m, line 5\u001b[39m\n\u001b[31m    \u001b[39m\u001b[31mexcept Exception as e:\u001b[39m\n    ^\n\u001b[31mIndentationError\u001b[39m\u001b[31m:\u001b[39m expected an indented block after 'try' statement on line 2\n"
          ]
        }
      ],
      "source": [
        "import os\n",
        "try:\n",
        "  # create your folder here\n",
        "  # os.makedirs(name='')\n",
        "except Exception as e:\n",
        "  print(e)\n"
      ]
    }
  ],
  "metadata": {
    "accelerator": "GPU",
    "colab": {
      "name": "Data Practitioner Jupyter Notebook.ipynb",
      "provenance": [],
      "toc_visible": true
    },
    "kernelspec": {
      "display_name": "Project_1.venv (3.12.8)",
      "language": "python",
      "name": "python3"
    },
    "language_info": {
      "codemirror_mode": {
        "name": "ipython",
        "version": 3
      },
      "file_extension": ".py",
      "mimetype": "text/x-python",
      "name": "python",
      "nbconvert_exporter": "python",
      "pygments_lexer": "ipython3",
      "version": "3.12.8"
    },
    "orig_nbformat": 2
  },
  "nbformat": 4,
  "nbformat_minor": 2
}
